{
  "nbformat": 4,
  "nbformat_minor": 0,
  "metadata": {
    "colab": {
      "provenance": [],
      "authorship_tag": "ABX9TyNLwvdpz4pk5q6LBrPZbsid",
      "include_colab_link": true
    },
    "kernelspec": {
      "name": "python3",
      "display_name": "Python 3"
    },
    "language_info": {
      "name": "python"
    }
  },
  "cells": [
    {
      "cell_type": "markdown",
      "metadata": {
        "id": "view-in-github",
        "colab_type": "text"
      },
      "source": [
        "<a href=\"https://colab.research.google.com/github/santhanalaxmi-k/santhanalaxmi_FA8D259024E19D2A49741A9CC3F68406/blob/main/Process%20creation.ipynb\" target=\"_parent\"><img src=\"https://colab.research.google.com/assets/colab-badge.svg\" alt=\"Open In Colab\"/></a>"
      ]
    },
    {
      "cell_type": "code",
      "execution_count": null,
      "metadata": {
        "colab": {
          "base_uri": "https://localhost:8080/"
        },
        "id": "o09QrUpJ9E7G",
        "outputId": "aa2553ca-8a35-407f-d500-0e718f58f619"
      },
      "outputs": [
        {
          "output_type": "stream",
          "name": "stdout",
          "text": [
            "main line\n",
            "module name: __main__\n",
            "parent process: 86\n",
            "process id: 148\n",
            "function f\n",
            "module name: __main__\n",
            "parent process: 148\n",
            "process id: 4797\n",
            "hello bob\n",
            "Child Process: Process-4\n",
            "Child Process ID: 4797\n"
          ]
        }
      ],
      "source": [
        "\n",
        "from multiprocessing import Process\n",
        "import os\n",
        "def info(title):\n",
        "  print(title)\n",
        "  print('module name:',__name__)\n",
        "  print('parent process:',os.getppid())\n",
        "  print('process id:',os.getpid())\n",
        "def f(name):\n",
        "  info('function f')\n",
        "  print('hello',name)\n",
        "if __name__=='__main__':\n",
        "  info('main line')\n",
        "  p= Process(target=f,args=('bob',))\n",
        "  p.start()\n",
        "  p.join()\n",
        "  print(\"Child Process:\",p.name)\n",
        "  print(\"Child Process ID:\",p.pid)"
      ]
    },
    {
      "cell_type": "code",
      "source": [],
      "metadata": {
        "id": "pUr-79Ed-Jbj"
      },
      "execution_count": null,
      "outputs": []
    }
  ]
}