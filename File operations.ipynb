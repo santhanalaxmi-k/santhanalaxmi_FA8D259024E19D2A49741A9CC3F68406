{
  "nbformat": 4,
  "nbformat_minor": 0,
  "metadata": {
    "colab": {
      "provenance": [],
      "authorship_tag": "ABX9TyP6eY+ZpZu2k5r/4Tra87mo",
      "include_colab_link": true
    },
    "kernelspec": {
      "name": "python3",
      "display_name": "Python 3"
    },
    "language_info": {
      "name": "python"
    }
  },
  "cells": [
    {
      "cell_type": "markdown",
      "metadata": {
        "id": "view-in-github",
        "colab_type": "text"
      },
      "source": [
        "<a href=\"https://colab.research.google.com/github/santhanalaxmi-k/santhanalaxmi_FA8D259024E19D2A49741A9CC3F68406/blob/main/File%20operations.ipynb\" target=\"_parent\"><img src=\"https://colab.research.google.com/assets/colab-badge.svg\" alt=\"Open In Colab\"/></a>"
      ]
    },
    {
      "cell_type": "code",
      "execution_count": 2,
      "metadata": {
        "colab": {
          "base_uri": "https://localhost:8080/"
        },
        "id": "HUCCYe1UGZeg",
        "outputId": "8c525b55-5069-42ab-cb7b-4460c8ada181"
      },
      "outputs": [
        {
          "output_type": "stream",
          "name": "stdout",
          "text": [
            "Output of Read function is\n",
            "Hello \n",
            "This is Delhi \n",
            "This is Paris \n",
            "This is London \n",
            "\n",
            "\n",
            "Output of Read function is\n",
            "Hello \n",
            "\n",
            "\n",
            "Output of Read(9) function is\n",
            "Hello \n",
            "\n",
            "\n",
            "Output of Readline(9) function is\n",
            "Hello \n",
            "\n",
            "Output of Readlines function is\n",
            "Hello \n",
            "\n",
            "\n"
          ]
        }
      ],
      "source": [
        "file1=open(\"myfile.txt\",\"w\")\n",
        "L=[\"This is Delhi \\n\",\"This is Paris \\n\",\"This is London \\n\"]\n",
        "\n",
        "file1.write(\"Hello \\n\")\n",
        "file1.writelines(L)\n",
        "file1.close()\n",
        "\n",
        "file1=open(\"myfile.txt\",\"r+\")\n",
        "print(\"Output of Read function is\")\n",
        "print(file1.read())\n",
        "print()\n",
        "\n",
        "\n",
        "file1.seek(0)\n",
        "print(\"Output of Read function is\")\n",
        "print(file1.readline())\n",
        "print()\n",
        "\n",
        "file1.seek(0)\n",
        "print(\"Output of Read(9) function is\")\n",
        "print(file1.readline(9))\n",
        "print()\n",
        "\n",
        "file1.seek(0)\n",
        "print(\"Output of Readline(9) function is\")\n",
        "print(file1.readline(9))\n",
        "\n",
        "file1.seek(0)\n",
        "print(\"Output of Readlines function is\")\n",
        "print(file1.readline())\n",
        "print()\n",
        "file1.close()"
      ]
    }
  ]
}